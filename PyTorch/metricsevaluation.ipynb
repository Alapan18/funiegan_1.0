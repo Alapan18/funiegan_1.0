{
 "cells": [
  {
   "cell_type": "code",
   "execution_count": 6,
   "metadata": {},
   "outputs": [
    {
     "name": "stdout",
     "output_type": "stream",
     "text": [
      "C:\\Users\\alapa\\funiegan\n"
     ]
    },
    {
     "name": "stderr",
     "output_type": "stream",
     "text": [
      "C:\\Users\\alapa\\AppData\\Local\\Packages\\PythonSoftwareFoundation.Python.3.12_qbz5n2kfra8p0\\LocalCache\\local-packages\\Python312\\site-packages\\IPython\\core\\magics\\osm.py:417: UserWarning: This is now an optional IPython functionality, setting dhist requires you to install the `pickleshare` library.\n",
      "  self.shell.db['dhist'] = compress_dhist(dhist)[-100:]\n"
     ]
    }
   ],
   "source": [
    "%cd C:/Users/alapa/funiegan/"
   ]
  },
  {
   "cell_type": "code",
   "execution_count": 7,
   "metadata": {},
   "outputs": [],
   "source": [
    "from piqa import PSNR\n",
    "import torch\n",
    "import cv2\n",
    "import numpy as np"
   ]
  },
  {
   "cell_type": "code",
   "execution_count": null,
   "metadata": {},
   "outputs": [
    {
     "name": "stdout",
     "output_type": "stream",
     "text": [
      "PSNR: 21.01607322692871 dB\n"
     ]
    }
   ],
   "source": [
    "# Load images (ensure they have the same dimensions)\n",
    "original = 'C:/Users/alapa/funiegan/EUVP/Paired/underwater_dark/trainB/264286_00007889.jpg'\n",
    "#original = cv2.imread('C:/Users/alapa/imageupscaler/upscalar(ESRGAN)/results/RealESRGAN_x2plus.pth/output__264286_00007889.jpg')\n",
    "processed = cv2.imread('C:/Users/alapa/imageupscaler/upscalar(ESRGAN)/results/RealESRGAN_x2.pth/output_264286_00007889.jpg')  # Ground truth\n",
    "# processed = cv2.imread('EUVP/test_samples/result/metricsevaluation/SA(batch8)/underwater_dark/generator_19/264286_00007889.jpg')  # Model output\n",
    "# processed = cv2.imread('EUVP/test_samples/result/metricsevaluation/SA(batch3)/underwater_dark/generator_3/264286_00007889.jpg')  # Model output\n",
    "# processed = cv2.imread('EUVP/test_samples/result/metricsevaluation/noattention/underwater_dark/generator_8/264286_00007889.jpg')  # Model output\n",
    "\n",
    "# Convert to float32 and normalize to [0, 1]\n",
    "original = original.astype(np.float32) / 255.0\n",
    "processed = processed.astype(np.float32) / 255.0\n",
    "\n",
    "# Convert to PyTorch tensors (add batch and channel dimensions)\n",
    "original_tensor = torch.from_numpy(original).permute(2, 0, 1).unsqueeze(0)  # [Batch, Channels, H, W]\n",
    "processed_tensor = torch.from_numpy(processed).permute(2, 0, 1).unsqueeze(0)  # [Batch, Channels, H, W]\n",
    "\n",
    "# Compute PSNR\n",
    "psnr = PSNR()\n",
    "psnr_value = psnr(processed_tensor, original_tensor)\n",
    "print(f\"PSNR: {psnr_value.item()} dB\")"
   ]
  },
  {
   "cell_type": "code",
   "execution_count": 41,
   "metadata": {},
   "outputs": [
    {
     "name": "stdout",
     "output_type": "stream",
     "text": [
      "Entropy of the image: 7.206697756614872\n"
     ]
    }
   ],
   "source": [
    "from skimage.measure import shannon_entropy\n",
    "import cv2\n",
    "import numpy as np\n",
    "\n",
    "def compute_entropy(image_path):\n",
    "    # Load the image\n",
    "    image = cv2.imread(image_path, cv2.IMREAD_GRAYSCALE)  # Convert to grayscale\n",
    "    \n",
    "    if image is None:\n",
    "        raise FileNotFoundError(f\"Image not found at {image_path}\")\n",
    "    \n",
    "    # Compute entropy\n",
    "    entropy_value = shannon_entropy(image)\n",
    "    return entropy_value\n",
    "\n",
    "# Example usage\n",
    "image_path = \"C:/Users/alapa/funiegan/EUVP/test_samples/result/metricsevaluation/SA(batch8)/underwater_dark/generator_19/264286_00007889.jpg\"\n",
    "# image_path = \"C:/Users/alapa/funiegan/EUVP/Paired/underwater_dark/trainB/264286_00007889.jpg\"\n",
    "# image_path = \"C:/Users/alapa/imageupscaler/upscalar(ESRGAN)/results/RealESRGAN_x4.pth/output_264286_00007889.jpg\"  # Replace with your image path\n",
    "try:\n",
    "    entropy_value = compute_entropy(image_path)\n",
    "    print(f\"Entropy of the image: {entropy_value}\")\n",
    "except FileNotFoundError as e:\n",
    "    print(e)"
   ]
  },
  {
   "cell_type": "code",
   "execution_count": null,
   "metadata": {},
   "outputs": [
    {
     "name": "stdout",
     "output_type": "stream",
     "text": [
      "UIQM: 28.479959846866834\n"
     ]
    }
   ],
   "source": [
    "import cv2\n",
    "import numpy as np\n",
    "\n",
    "def compute_uicm(image):\n",
    "    \"\"\"\n",
    "    Compute UICM (Underwater Image Colorfulness Measure).\n",
    "    \"\"\"\n",
    "    r, g, b = cv2.split(image.astype(np.float32))\n",
    "    rg = r - g\n",
    "    yb = (r + g) / 2 - b\n",
    "    rg_std = np.std(rg)\n",
    "    yb_std = np.std(yb)\n",
    "    uicm = np.sqrt(rg_std**2 + yb_std**2)\n",
    "    return uicm\n",
    "\n",
    "def compute_uism(image):\n",
    "    \"\"\"\n",
    "    Compute UISM (Underwater Image Sharpness Measure).\n",
    "    \"\"\"\n",
    "    gray = cv2.cvtColor(image, cv2.COLOR_BGR2GRAY)\n",
    "    laplacian = cv2.Laplacian(gray, cv2.CV_64F)\n",
    "    uism = np.mean(np.abs(laplacian))\n",
    "    return uism\n",
    "\n",
    "def compute_uiconm(image):\n",
    "    \"\"\"\n",
    "    Compute UIConM (Underwater Image Contrast Measure).\n",
    "    \"\"\"\n",
    "    gray = cv2.cvtColor(image, cv2.COLOR_BGR2GRAY)\n",
    "    hist, _ = np.histogram(gray.ravel(), bins=256, range=(0, 256))\n",
    "    prob = hist / hist.sum()\n",
    "    prob = prob[prob > 0]  # Avoid log(0)\n",
    "    uiconm = -np.sum(prob * np.log2(prob))  # Shannon entropy\n",
    "    return uiconm\n",
    "\n",
    "def compute_uiqm(image_path):\n",
    "    \"\"\"\n",
    "    Compute UIQM (Underwater Image Quality Measure).\n",
    "    Args:\n",
    "        image_path (str): Path to the input image.\n",
    "    Returns:\n",
    "        float: UIQM value.\n",
    "    \"\"\"\n",
    "    # Load image\n",
    "    image = cv2.imread(image_path)\n",
    "    if image is None:\n",
    "        raise FileNotFoundError(f\"Image not found at {image_path}\")\n",
    "\n",
    "    # Compute components\n",
    "    uicm = compute_uicm(image)\n",
    "    uism = compute_uism(image)\n",
    "    uiconm = compute_uiconm(image)\n",
    "\n",
    "    # Compute UIQM\n",
    "    uiqm = 0.0282 * uicm + 0.2953 * uism + 3.5753 * uiconm\n",
    "    return uiqm\n",
    "\n",
    "# Example usage\n",
    "\n",
    "# image_path = \"C:/Users/alapa/funiegan/EUVP/Paired/underwater_dark/trainA/264286_00007889.jpg\"  \n",
    "# image_path = \"C:/Users/alapa/funiegan/EUVP/test_samples/result/metricsevaluation/SA(batch8)/underwater_dark/generator_19/264286_00007889.jpg\"\n",
    "# image_path = \"C:/Users/alapa/funiegan/EUVP/Paired/underwater_dark/trainB/264286_00007889.jpg\"\n",
    "# image_path = \"C:/Users/alapa/imageupscaler/upscalar(ESRGAN)/results/RealESRGAN_x8.pth/output_264286_00007889.jpg\" \n",
    "try:\n",
    "    uiqm_value = compute_uiqm(image_path)\n",
    "    print(f\"UIQM: {uiqm_value}\")\n",
    "except FileNotFoundError as e:\n",
    "    print(e)"
   ]
  }
 ],
 "metadata": {
  "kernelspec": {
   "display_name": "Python 3",
   "language": "python",
   "name": "python3"
  },
  "language_info": {
   "codemirror_mode": {
    "name": "ipython",
    "version": 3
   },
   "file_extension": ".py",
   "mimetype": "text/x-python",
   "name": "python",
   "nbconvert_exporter": "python",
   "pygments_lexer": "ipython3",
   "version": "3.12.7"
  }
 },
 "nbformat": 4,
 "nbformat_minor": 2
}
